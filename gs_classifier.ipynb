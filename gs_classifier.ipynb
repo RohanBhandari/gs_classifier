{
 "cells": [
  {
   "cell_type": "markdown",
   "metadata": {},
   "source": [
    "# GS Classifier\n",
    "### Attempt to differentiate events with gluon splitting from those without it"
   ]
  },
  {
   "cell_type": "markdown",
   "metadata": {},
   "source": [
    "## Setup the data"
   ]
  },
  {
   "cell_type": "code",
   "execution_count": 2,
   "metadata": {
    "collapsed": true
   },
   "outputs": [],
   "source": [
    "import numpy as np\n",
    "import pandas as pd\n",
    "\n",
    "from matplotlib import pyplot as plt\n",
    "%matplotlib inline"
   ]
  },
  {
   "cell_type": "code",
   "execution_count": 3,
   "metadata": {
    "collapsed": true
   },
   "outputs": [],
   "source": [
    "df = pd.read_csv('/Users/rohan/research/gs_classifier/output_gs.csv')\n",
    "\n",
    "feats = df.iloc[:,0:12]\n",
    "y = df.isgs"
   ]
  },
  {
   "cell_type": "code",
   "execution_count": 4,
   "metadata": {},
   "outputs": [
    {
     "data": {
      "text/plain": [
       "(164656, 12)"
      ]
     },
     "execution_count": 4,
     "metadata": {},
     "output_type": "execute_result"
    }
   ],
   "source": [
    "feats.shape"
   ]
  },
  {
   "cell_type": "code",
   "execution_count": 5,
   "metadata": {
    "scrolled": true
   },
   "outputs": [
    {
     "data": {
      "text/html": [
       "<div>\n",
       "<style>\n",
       "    .dataframe thead tr:only-child th {\n",
       "        text-align: right;\n",
       "    }\n",
       "\n",
       "    .dataframe thead th {\n",
       "        text-align: left;\n",
       "    }\n",
       "\n",
       "    .dataframe tbody tr th {\n",
       "        vertical-align: top;\n",
       "    }\n",
       "</style>\n",
       "<table border=\"1\" class=\"dataframe\">\n",
       "  <thead>\n",
       "    <tr style=\"text-align: right;\">\n",
       "      <th></th>\n",
       "      <th>weight</th>\n",
       "      <th>dr_bb</th>\n",
       "      <th>bb_pt</th>\n",
       "      <th>bb_m</th>\n",
       "      <th>jet1_csv</th>\n",
       "      <th>jet1_pt</th>\n",
       "      <th>jet1_eta</th>\n",
       "      <th>jet1_phi</th>\n",
       "      <th>jet2_csv</th>\n",
       "      <th>jet2_pt</th>\n",
       "      <th>jet2_eta</th>\n",
       "      <th>jet2_phi</th>\n",
       "    </tr>\n",
       "  </thead>\n",
       "  <tbody>\n",
       "    <tr>\n",
       "      <th>0</th>\n",
       "      <td>0.068587</td>\n",
       "      <td>0.947933</td>\n",
       "      <td>806.513000</td>\n",
       "      <td>418.969666</td>\n",
       "      <td>0.970258</td>\n",
       "      <td>469.232178</td>\n",
       "      <td>-1.552434</td>\n",
       "      <td>0.988524</td>\n",
       "      <td>0.906826</td>\n",
       "      <td>340.613373</td>\n",
       "      <td>-0.622500</td>\n",
       "      <td>1.172366</td>\n",
       "    </tr>\n",
       "    <tr>\n",
       "      <th>1</th>\n",
       "      <td>0.065783</td>\n",
       "      <td>1.710818</td>\n",
       "      <td>345.106720</td>\n",
       "      <td>202.336594</td>\n",
       "      <td>0.993821</td>\n",
       "      <td>47.740227</td>\n",
       "      <td>1.110587</td>\n",
       "      <td>-1.902524</td>\n",
       "      <td>0.958397</td>\n",
       "      <td>346.806488</td>\n",
       "      <td>0.763946</td>\n",
       "      <td>-0.227192</td>\n",
       "    </tr>\n",
       "    <tr>\n",
       "      <th>2</th>\n",
       "      <td>0.069150</td>\n",
       "      <td>0.821434</td>\n",
       "      <td>699.727417</td>\n",
       "      <td>307.803986</td>\n",
       "      <td>0.996421</td>\n",
       "      <td>344.196381</td>\n",
       "      <td>0.981522</td>\n",
       "      <td>-0.860860</td>\n",
       "      <td>0.901411</td>\n",
       "      <td>418.045929</td>\n",
       "      <td>1.034307</td>\n",
       "      <td>-0.041124</td>\n",
       "    </tr>\n",
       "    <tr>\n",
       "      <th>3</th>\n",
       "      <td>0.069805</td>\n",
       "      <td>1.968648</td>\n",
       "      <td>235.376617</td>\n",
       "      <td>302.447571</td>\n",
       "      <td>0.987000</td>\n",
       "      <td>153.347351</td>\n",
       "      <td>0.517652</td>\n",
       "      <td>0.096551</td>\n",
       "      <td>0.862928</td>\n",
       "      <td>140.702484</td>\n",
       "      <td>-0.972188</td>\n",
       "      <td>1.383389</td>\n",
       "    </tr>\n",
       "    <tr>\n",
       "      <th>4</th>\n",
       "      <td>0.068559</td>\n",
       "      <td>1.061551</td>\n",
       "      <td>743.231018</td>\n",
       "      <td>418.841614</td>\n",
       "      <td>0.907696</td>\n",
       "      <td>374.111206</td>\n",
       "      <td>0.631812</td>\n",
       "      <td>1.520363</td>\n",
       "      <td>0.853196</td>\n",
       "      <td>370.016937</td>\n",
       "      <td>-0.425185</td>\n",
       "      <td>1.618583</td>\n",
       "    </tr>\n",
       "  </tbody>\n",
       "</table>\n",
       "</div>"
      ],
      "text/plain": [
       "     weight     dr_bb       bb_pt        bb_m  jet1_csv     jet1_pt  jet1_eta  \\\n",
       "0  0.068587  0.947933  806.513000  418.969666  0.970258  469.232178 -1.552434   \n",
       "1  0.065783  1.710818  345.106720  202.336594  0.993821   47.740227  1.110587   \n",
       "2  0.069150  0.821434  699.727417  307.803986  0.996421  344.196381  0.981522   \n",
       "3  0.069805  1.968648  235.376617  302.447571  0.987000  153.347351  0.517652   \n",
       "4  0.068559  1.061551  743.231018  418.841614  0.907696  374.111206  0.631812   \n",
       "\n",
       "   jet1_phi  jet2_csv     jet2_pt  jet2_eta  jet2_phi  \n",
       "0  0.988524  0.906826  340.613373 -0.622500  1.172366  \n",
       "1 -1.902524  0.958397  346.806488  0.763946 -0.227192  \n",
       "2 -0.860860  0.901411  418.045929  1.034307 -0.041124  \n",
       "3  0.096551  0.862928  140.702484 -0.972188  1.383389  \n",
       "4  1.520363  0.853196  370.016937 -0.425185  1.618583  "
      ]
     },
     "execution_count": 5,
     "metadata": {},
     "output_type": "execute_result"
    }
   ],
   "source": [
    "feats.head(5)"
   ]
  },
  {
   "cell_type": "code",
   "execution_count": 6,
   "metadata": {},
   "outputs": [
    {
     "data": {
      "text/plain": [
       "(164656,)"
      ]
     },
     "execution_count": 6,
     "metadata": {},
     "output_type": "execute_result"
    }
   ],
   "source": [
    "y.shape"
   ]
  },
  {
   "cell_type": "code",
   "execution_count": 7,
   "metadata": {
    "scrolled": true
   },
   "outputs": [
    {
     "data": {
      "text/plain": [
       "0    1\n",
       "1    1\n",
       "2    0\n",
       "3    1\n",
       "4    0\n",
       "Name: isgs, dtype: int64"
      ]
     },
     "execution_count": 7,
     "metadata": {},
     "output_type": "execute_result"
    }
   ],
   "source": [
    "y.head(5)"
   ]
  },
  {
   "cell_type": "markdown",
   "metadata": {},
   "source": [
    "#### Use K-folds for cross-validation"
   ]
  },
  {
   "cell_type": "code",
   "execution_count": 8,
   "metadata": {
    "collapsed": true
   },
   "outputs": [],
   "source": [
    "from sklearn.model_selection import KFold\n",
    "n_folds = 5\n",
    "kf = KFold(n_splits=n_folds, shuffle=True, random_state=452)"
   ]
  },
  {
   "cell_type": "markdown",
   "metadata": {},
   "source": [
    "## Decision Tree\n",
    "#### Loop over the folds, train, and evaluate the decision tree"
   ]
  },
  {
   "cell_type": "code",
   "execution_count": 10,
   "metadata": {},
   "outputs": [
    {
     "name": "stdout",
     "output_type": "stream",
     "text": [
      "Fold 1:\n",
      "Train score: 1.000\n",
      "Test score: 0.559\n",
      "\n",
      "Fold 2:\n",
      "Train score: 1.000\n",
      "Test score: 0.554\n",
      "\n",
      "Fold 3:\n",
      "Train score: 1.000\n",
      "Test score: 0.561\n",
      "\n",
      "Fold 4:\n",
      "Train score: 1.000\n",
      "Test score: 0.558\n",
      "\n",
      "Fold 5:\n",
      "Train score: 1.000\n",
      "Test score: 0.553\n",
      "\n",
      "Mean train score: 1.000\n",
      "Mean test score: 0.557\n"
     ]
    }
   ],
   "source": [
    "from sklearn.tree import DecisionTreeClassifier\n",
    "from sklearn.metrics import roc_auc_score\n",
    "tree = DecisionTreeClassifier()\n",
    "train_scores = []\n",
    "test_scores = []\n",
    "for idx, (train, test) in enumerate(kf.split(feats, y)):\n",
    "    # Setup weights and train/test sets\n",
    "    train_weights = list(feats.iloc[train,0])\n",
    "    X_train, y_train = feats.iloc[train,1:12], y.iloc[train]\n",
    "    test_weights = list(feats.iloc[test,0])\n",
    "    X_test, y_test = feats.iloc[test, 1:12], y.iloc[test]\n",
    "\n",
    "    # Train tree\n",
    "    tree.fit(X_train, y_train, sample_weight=train_weights)\n",
    "    \n",
    "    # Evaluate\n",
    "    print(\"Fold {}:\").format(idx+1)\n",
    "    train_scores.append(roc_auc_score(y_train, tree.predict(X_train), sample_weight=train_weights))\n",
    "    print(\"Train score: {:.3f}\").format(train_scores[idx])\n",
    "    test_scores.append(roc_auc_score(y_test, tree.predict(X_test), sample_weight=test_weights))\n",
    "    print(\"Test score: {:.3f}\\n\").format(test_scores[idx])\n",
    "    \n",
    "print(\"Mean train score: {:.3f}\").format(sum(train_scores)/n_folds)\n",
    "print(\"Mean test score: {:.3f}\").format(sum(test_scores)/n_folds)    "
   ]
  },
  {
   "cell_type": "code",
   "execution_count": 11,
   "metadata": {},
   "outputs": [
    {
     "name": "stdout",
     "output_type": "stream",
     "text": [
      "Confusion matrix\n",
      "[[ 81.80483019  65.03153561]\n",
      " [ 59.68257544  72.60793032]]\n",
      "Normalized confusion matrix\n",
      "[[ 0.5571156   0.4428844 ]\n",
      " [ 0.45114784  0.54885216]]\n"
     ]
    }
   ],
   "source": [
    "### Confusion matrix for fold 5\n",
    "from sklearn.metrics import confusion_matrix\n",
    "cm = confusion_matrix(y_test, tree.predict(X_test), sample_weight=test_weights)\n",
    "print(\"Confusion matrix\")\n",
    "print(cm)\n",
    "print(\"Normalized confusion matrix\")\n",
    "print(cm.astype('float')/cm.sum(axis=1)[:, np.newaxis])"
   ]
  },
  {
   "cell_type": "code",
   "execution_count": 51,
   "metadata": {},
   "outputs": [
    {
     "data": {
      "image/png": "[encoded data removed]",
      "text/plain": [
       "<matplotlib.figure.Figure at 0x1150a0250>"
      ]
     },
     "metadata": {},
     "output_type": "display_data"
    }
   ],
   "source": [
    "# Training ROC\n",
    "plot_roc([y_train], [tree.predict(X_train)], 1, [train_weights])"
   ]
  },
  {
   "cell_type": "code",
   "execution_count": 52,
   "metadata": {},
   "outputs": [
    {
     "data": {
      "image/png": "[encoded data removed]",
      "text/plain": [
       "<matplotlib.figure.Figure at 0x1150ec490>"
      ]
     },
     "metadata": {},
     "output_type": "display_data"
    }
   ],
   "source": [
    "# Train and Test ROC\n",
    "plot_roc([y_train, y_test], [tree.predict(X_train), tree.predict(X_test)], 1, [train_weights, test_weights])"
   ]
  },
  {
   "cell_type": "markdown",
   "metadata": {},
   "source": [
    "# Matrix labels, x-axis (left to right) predicted !gs/gs, y-axis (top to bottom) truth !gs/gs"
   ]
  },
  {
   "cell_type": "markdown",
   "metadata": {},
   "source": [
    "### Try limiting max depth"
   ]
  },
  {
   "cell_type": "code",
   "execution_count": 56,
   "metadata": {},
   "outputs": [
    {
     "name": "stdout",
     "output_type": "stream",
     "text": [
      "Depth 1\n",
      "\tMean train score: 0.629\n",
      "\tMean test score: 0.628\n",
      "Depth 2\n",
      "\tMean train score: 0.629\n",
      "\tMean test score: 0.628\n",
      "Depth 3\n",
      "\tMean train score: 0.628\n",
      "\tMean test score: 0.626\n",
      "Depth 4\n",
      "\tMean train score: 0.631\n",
      "\tMean test score: 0.628\n",
      "Depth 5\n",
      "\tMean train score: 0.638\n",
      "\tMean test score: 0.632\n",
      "Depth 6\n",
      "\tMean train score: 0.642\n",
      "\tMean test score: 0.633\n",
      "\n",
      "\tFeature Importance:\n",
      "[ 0.06592732  0.05562635  0.0320795   0.74388791  0.0297635   0.01338757\n",
      "  0.00081525  0.03824978  0.00430773  0.01517651  0.00077857]\n",
      "Depth 7\n",
      "\tMean train score: 0.647\n",
      "\tMean test score: 0.631\n",
      "Depth 8\n",
      "\tMean train score: 0.657\n",
      "\tMean test score: 0.630\n",
      "Depth 9\n",
      "\tMean train score: 0.667\n",
      "\tMean test score: 0.627\n",
      "Depth 10\n",
      "\tMean train score: 0.677\n",
      "\tMean test score: 0.624\n",
      "Depth 11\n",
      "\tMean train score: 0.692\n",
      "\tMean test score: 0.622\n",
      "Depth 12\n",
      "\tMean train score: 0.709\n",
      "\tMean test score: 0.618\n",
      "Depth 13\n",
      "\tMean train score: 0.727\n",
      "\tMean test score: 0.614\n",
      "Depth 14\n",
      "\tMean train score: 0.748\n",
      "\tMean test score: 0.611\n"
     ]
    }
   ],
   "source": [
    "for depth in range(1,15):\n",
    "    print(\"Depth {}\").format(depth)\n",
    "    tree_depth = DecisionTreeClassifier(max_depth=depth)\n",
    "    train_scores = []\n",
    "    test_scores = []\n",
    "    for idx, (train, test) in enumerate(kf.split(feats, y)):\n",
    "        # Setup weights and train/test sets\n",
    "        train_weights = list(feats.iloc[train,0])\n",
    "        X_train, y_train = feats.iloc[train,1:12], y.iloc[train]\n",
    "        test_weights = list(feats.iloc[test,0])\n",
    "        X_test, y_test = feats.iloc[test, 1:12], y.iloc[test]\n",
    "\n",
    "        # Train tree\n",
    "        tree_depth.fit(X_train, y_train, sample_weight=train_weights)\n",
    "    \n",
    "        # Evaluate\n",
    "        train_scores.append(roc_auc_score(y_train, tree_depth.predict(X_train), sample_weight=train_weights))\n",
    "        test_scores.append(roc_auc_score(y_test, tree_depth.predict(X_test), sample_weight=test_weights))\n",
    "    \n",
    "    print(\"\\tMean train score: {:.3f}\").format(sum(train_scores)/n_folds)\n",
    "    print(\"\\tMean test score: {:.3f}\").format(sum(test_scores)/n_folds)\n",
    "    \n",
    "    if depth==6: \n",
    "        print(\"\\n\\tFeature Importance:\")\n",
    "        print(tree_depth.feature_importances_)"
   ]
  },
  {
   "cell_type": "code",
   "execution_count": null,
   "metadata": {
    "collapsed": true
   },
   "outputs": [],
   "source": [
    "# Use depth = 9, as it is just beyond overfitting"
   ]
  },
  {
   "cell_type": "code",
   "execution_count": 75,
   "metadata": {},
   "outputs": [
    {
     "data": {
      "image/png": "[encoded data removed]",
      "text/plain": [
       "<matplotlib.figure.Figure at 0x11aa7c290>"
      ]
     },
     "metadata": {},
     "output_type": "display_data"
    }
   ],
   "source": [
    "#Train scores\n",
    "train_scores = [0.629, 0.629, 0.628, 0.631, 0.638, 0.642, 0.647, 0.657, 0.667, 0.677, 0.692, 0.709, 0.727, 0.748]\n",
    "#Test scores\n",
    "test_scores = [0.628, 0.628, 0.626, 0.628, 0.632, 0.633, 0.631, 0.630, 0.627, 0.624, 0.622, 0.618, 0.614, 0.612]\n",
    "\n",
    "# Plot train/test scores as a function of depth\n",
    "plt.plot(range(1,15), train_scores, color='darkorange', label = 'Train', lw=2, marker='.', ms=10)\n",
    "plt.plot(range(1,15), test_scores, color='darkgreen', label = 'Test', lw=2, marker='.', ms=10)\n",
    "plt.ylim([0.6, 0.7])\n",
    "plt.xlabel('Depth')\n",
    "plt.ylabel('Mean ROC AUC')\n",
    "plt.legend(loc='upper left')\n",
    "plt.show()"
   ]
  },
  {
   "cell_type": "markdown",
   "metadata": {},
   "source": [
    "# Add limits on min_samples_leaf"
   ]
  },
  {
   "cell_type": "code",
   "execution_count": 153,
   "metadata": {},
   "outputs": [
    {
     "name": "stdout",
     "output_type": "stream",
     "text": [
      "Leaf(s) 1500\n",
      "\tMean train score: 0.640\n",
      "\tMean test score: 0.632\n"
     ]
    }
   ],
   "source": [
    "for leaf in range(1500,1501):\n",
    "    print(\"Leaf(s) {}\").format(leaf)\n",
    "    tree_leaf = DecisionTreeClassifier(max_depth=9, min_samples_leaf=leaf)\n",
    "    train_scores = []\n",
    "    test_scores = []\n",
    "    for idx, (train, test) in enumerate(kf.split(X, y)):\n",
    "        # Setup weights and train/test sets\n",
    "        train_weights = list(feats.iloc[train,0])\n",
    "        X_train, y_train = feats.iloc[train,1:12], y.iloc[train]\n",
    "        test_weights = list(feats.iloc[test,0])\n",
    "        X_test, y_test = feats.iloc[test, 1:12], y.iloc[test]\n",
    "\n",
    "        # Train tree\n",
    "        tree_leaf.fit(X_train, y_train, sample_weight=train_weights)\n",
    "    \n",
    "        # Evaluate\n",
    "        train_scores.append(roc_auc_score(y_train, tree_leaf.predict(X_train), sample_weight=train_weights))\n",
    "        test_scores.append(roc_auc_score(y_test, tree_leaf.predict(X_test), sample_weight=test_weights))\n",
    "    \n",
    "    print(\"\\tMean train score: {:.3f}\").format(sum(train_scores)/n_folds)\n",
    "    print(\"\\tMean test score: {:.3f}\").format(sum(test_scores)/n_folds)"
   ]
  },
  {
   "cell_type": "code",
   "execution_count": null,
   "metadata": {
    "collapsed": true
   },
   "outputs": [],
   "source": [
    "# Doesn't add much over max_depth so don't use. Instead use max_depth = 6"
   ]
  },
  {
   "cell_type": "markdown",
   "metadata": {},
   "source": [
    "### Add limit on max_features"
   ]
  },
  {
   "cell_type": "code",
   "execution_count": 171,
   "metadata": {},
   "outputs": [
    {
     "name": "stdout",
     "output_type": "stream",
     "text": [
      "Feats 1\n",
      "\tMean train score: 0.601\n",
      "\tMean test score: 0.595\n",
      "Feats 2\n",
      "\tMean train score: 0.622\n",
      "\tMean test score: 0.613\n",
      "Feats 3\n",
      "\tMean train score: 0.634\n",
      "\tMean test score: 0.625\n",
      "Feats 4\n",
      "\tMean train score: 0.636\n",
      "\tMean test score: 0.628\n",
      "Feats 5\n",
      "\tMean train score: 0.640\n",
      "\tMean test score: 0.632\n",
      "Feats 6\n",
      "\tMean train score: 0.640\n",
      "\tMean test score: 0.630\n",
      "Feats 7\n",
      "\tMean train score: 0.642\n",
      "\tMean test score: 0.634\n",
      "\n",
      "\tFeature Importance:\n",
      "[ 0.06494601  0.05799704  0.02081478  0.73533646  0.026564    0.03462659\n",
      "  0.00169229  0.03867981  0.00924843  0.00476484  0.00532977]\n",
      "\n",
      "\n",
      "Feats 8\n",
      "\tMean train score: 0.641\n",
      "\tMean test score: 0.632\n",
      "Feats 9\n",
      "\tMean train score: 0.640\n",
      "\tMean test score: 0.631\n",
      "Feats 10\n",
      "\tMean train score: 0.642\n",
      "\tMean test score: 0.634\n",
      "Feats 11\n",
      "\tMean train score: 0.642\n",
      "\tMean test score: 0.633\n"
     ]
    }
   ],
   "source": [
    "for feat in range(1,12):\n",
    "    print(\"Feats {}\").format(feat)\n",
    "    tree_feat = DecisionTreeClassifier(max_depth=6, max_features=feat)\n",
    "    train_scores = []\n",
    "    test_scores = []\n",
    "    for idx, (train, test) in enumerate(kf.split(X, y)):\n",
    "        # Setup weights and train/test sets\n",
    "        train_weights = list(feats.iloc[train,0])\n",
    "        X_train, y_train = feats.iloc[train,1:12], y.iloc[train]\n",
    "        test_weights = list(feats.iloc[test,0])\n",
    "        X_test, y_test = feats.iloc[test, 1:12], y.iloc[test]\n",
    "\n",
    "        # Train tree\n",
    "        tree_feat.fit(X_train, y_train, sample_weight=train_weights)\n",
    "    \n",
    "        # Evaluate\n",
    "        train_scores.append(roc_auc_score(y_train, tree_feat.predict(X_train), sample_weight=train_weights))\n",
    "        test_scores.append(roc_auc_score(y_test, tree_feat.predict(X_test), sample_weight=test_weights))\n",
    "        \n",
    "    print(\"\\tMean train score: {:.3f}\").format(sum(train_scores)/n_folds)\n",
    "    print(\"\\tMean test score: {:.3f}\").format(sum(test_scores)/n_folds)\n",
    "    \n",
    "    if feat==7: \n",
    "        print(\"\\n\\tFeature Importance:\")\n",
    "        print(tree_feat.feature_importances_)"
   ]
  },
  {
   "cell_type": "code",
   "execution_count": 172,
   "metadata": {
    "collapsed": true
   },
   "outputs": [],
   "source": [
    "# The most useful discriminator is surprisingly the highest csv of the b-jets in the event"
   ]
  },
  {
   "cell_type": "code",
   "execution_count": 78,
   "metadata": {},
   "outputs": [
    {
     "data": {
      "image/png": "[encoded data removed]",
      "text/plain": [
       "<matplotlib.figure.Figure at 0x114bf7d90>"
      ]
     },
     "metadata": {},
     "output_type": "display_data"
    }
   ],
   "source": [
    "bins = np.linspace(0.84,1.00,20)\n",
    "plt.hist(df[df.isgs==1].jet1_csv, bins, alpha=0.5, label='isgs', normed=True)\n",
    "plt.hist(df[df.isgs==0].jet1_csv, bins, alpha=0.5, label='notgs', normed=True)\n",
    "plt.xlabel('CSV')\n",
    "plt.ylabel('% of Entries')\n",
    "plt.legend(loc='upper left')\n",
    "plt.show()"
   ]
  },
  {
   "cell_type": "code",
   "execution_count": 19,
   "metadata": {},
   "outputs": [
    {
     "data": {
      "image/png": "[encoded data removed]",
      "text/plain": [
       "<matplotlib.figure.Figure at 0x111530850>"
      ]
     },
     "metadata": {},
     "output_type": "display_data"
    }
   ],
   "source": [
    "bins = np.linspace(0,3.2,10)\n",
    "plt.hist(df[df.isgs==1].dr_bb, bins, alpha=0.5, label='isgs', normed=True)\n",
    "plt.hist(df[df.isgs==0].dr_bb, bins, alpha=0.5, label='notgs', normed=True)\n",
    "plt.plot([1.6,1.6],[0,0.6], color='black', linestyle='--')\n",
    "plt.xlabel('dRbb')\n",
    "plt.ylabel('% of Entries')\n",
    "plt.legend(loc='upper right')\n",
    "plt.show()"
   ]
  },
  {
   "cell_type": "code",
   "execution_count": 184,
   "metadata": {},
   "outputs": [
    {
     "data": {
      "image/png": "[encoded data removed]",
      "text/plain": [
       "<matplotlib.figure.Figure at 0x1144efed0>"
      ]
     },
     "metadata": {},
     "output_type": "display_data"
    }
   ],
   "source": [
    "bins = np.linspace(0.84,1.00,20)\n",
    "plt.hist(df[df.isgs==1].jet2_csv, bins, alpha=0.5, label='isgs')\n",
    "plt.hist(df[df.isgs==0].jet2_csv, bins, alpha=0.5, label='notgs')\n",
    "plt.legend(loc='upper left')\n",
    "plt.show()"
   ]
  },
  {
   "cell_type": "markdown",
   "metadata": {},
   "source": [
    "## Conclusion "
   ]
  },
  {
   "cell_type": "markdown",
   "metadata": {},
   "source": [
    "### In order to reduce the importance on one feature (i.e. the highest csv), there are two options to try.\n",
    "\n",
    "### 1) Proceed to a random forest\n",
    "\n",
    "### 2) Try classifier not just isgs vs notgs, but what type of gs, since they have different signatures and different features may be important for each"
   ]
  },
  {
   "cell_type": "code",
   "execution_count": 50,
   "metadata": {
    "collapsed": true
   },
   "outputs": [],
   "source": [
    "from sklearn.metrics import roc_curve\n",
    "## PLOT ROC CURVE\n",
    "def plot_roc(y_true, y_score, pos_label, sample_weight):\n",
    "    colors = ['darkorange','darkgreen']\n",
    "    labels = ['Train','Test']\n",
    "    for iplt in range(len(y_true)):\n",
    "        fpr, tpr, _ = roc_curve(y_true[iplt], y_score[iplt], pos_label, sample_weight[iplt])\n",
    "        plt.plot(fpr, tpr, color=colors[iplt], lw=2, label='{} (AUC={:.3f})'.format(labels[iplt], roc_auc_score(y_true[iplt], y_score[iplt], sample_weight=sample_weight[iplt])))\n",
    "    plt.plot([0,1], [0,1], color='grey', lw=2, linestyle='--')\n",
    "    plt.xlim([0.0,1.0])\n",
    "    plt.ylim([0.0, 1.05])\n",
    "    plt.xlabel('Mistag')\n",
    "    plt.ylabel('Efficiency')\n",
    "    plt.legend(loc='lower right')\n",
    "    plt.show()"
   ]
  },
  {
   "cell_type": "code",
   "execution_count": 10,
   "metadata": {},
   "outputs": [
    {
     "name": "stdout",
     "output_type": "stream",
     "text": [
      "Depth 1\n",
      "\tMean train score: 0.626\n",
      "\tMean test score: 0.625\n",
      "Depth 2\n",
      "\tMean train score: 0.626\n",
      "\tMean test score: 0.625\n",
      "Depth 3\n",
      "\tMean train score: 0.631\n",
      "\tMean test score: 0.628\n",
      "Depth 4\n",
      "\tMean train score: 0.633\n",
      "\tMean test score: 0.630\n",
      "Depth 5\n",
      "\tMean train score: 0.637\n",
      "\tMean test score: 0.630\n",
      "Depth 6\n",
      "\tMean train score: 0.642\n",
      "\tMean test score: 0.633\n",
      "\n",
      "\tFeature Importance:\n",
      "[ 0.06592732  0.05562635  0.0320795   0.74388791  0.0297635   0.01338757\n",
      "  0.00081525  0.03824978  0.00430773  0.01517651  0.00077857]\n",
      "Depth 7\n",
      "\tMean train score: 0.648\n",
      "\tMean test score: 0.632\n",
      "Depth 8\n",
      "\tMean train score: 0.657\n",
      "\tMean test score: 0.630\n",
      "Depth 9\n",
      "\tMean train score: 0.667\n",
      "\tMean test score: 0.627\n",
      "Depth 10\n",
      "\tMean train score: 0.678\n",
      "\tMean test score: 0.624\n",
      "Depth 11\n",
      "\tMean train score: 0.693\n",
      "\tMean test score: 0.622\n",
      "Depth 12\n",
      "\tMean train score: 0.710\n",
      "\tMean test score: 0.619\n",
      "Depth 13\n",
      "\tMean train score: 0.728\n",
      "\tMean test score: 0.614\n",
      "Depth 14\n",
      "\tMean train score: 0.748\n",
      "\tMean test score: 0.612\n"
     ]
    }
   ],
   "source": [
    "from sklearn.tree import DecisionTreeClassifier\n",
    "from sklearn.metrics import accuracy_score\n",
    "### GET SCORES IN TERMS OF ACCURACY\n",
    "for depth in range(1,15):\n",
    "    print(\"Depth {}\").format(depth)\n",
    "    tree_depth = DecisionTreeClassifier(max_depth=depth)\n",
    "    train_scores = []\n",
    "    test_scores = []\n",
    "    for idx, (train, test) in enumerate(kf.split(feats, y)):\n",
    "        # Setup weights and train/test sets\n",
    "        train_weights = list(feats.iloc[train,0])\n",
    "        X_train, y_train = feats.iloc[train,1:12], y.iloc[train]\n",
    "        test_weights = list(feats.iloc[test,0])\n",
    "        X_test, y_test = feats.iloc[test, 1:12], y.iloc[test]\n",
    "\n",
    "        # Train tree\n",
    "        tree_depth.fit(X_train, y_train, sample_weight=train_weights)\n",
    "    \n",
    "        # Evaluate\n",
    "        train_scores.append(accuracy_score(y_train, tree_depth.predict(X_train), sample_weight=train_weights))\n",
    "        test_scores.append(accuracy_score(y_test, tree_depth.predict(X_test), sample_weight=test_weights))\n",
    "    \n",
    "    print(\"\\tMean train score: {:.3f}\").format(sum(train_scores)/n_folds)\n",
    "    print(\"\\tMean test score: {:.3f}\").format(sum(test_scores)/n_folds)\n",
    "    \n",
    "    if depth==6: \n",
    "        print(\"\\n\\tFeature Importance:\")\n",
    "        print(tree_depth.feature_importances_)"
   ]
  },
  {
   "cell_type": "code",
   "execution_count": null,
   "metadata": {
    "collapsed": true
   },
   "outputs": [],
   "source": []
  }
 ],
 "metadata": {
  "kernelspec": {
   "display_name": "Python 2",
   "language": "python",
   "name": "python2"
  },
  "language_info": {
   "codemirror_mode": {
    "name": "ipython",
    "version": 2
   },
   "file_extension": ".py",
   "mimetype": "text/x-python",
   "name": "python",
   "nbconvert_exporter": "python",
   "pygments_lexer": "ipython2",
   "version": "2.7.13"
  }
 },
 "nbformat": 4,
 "nbformat_minor": 2
}
