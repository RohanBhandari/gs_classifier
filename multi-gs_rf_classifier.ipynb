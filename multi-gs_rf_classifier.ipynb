{
 "cells": [
  {
   "cell_type": "markdown",
   "metadata": {},
   "source": [
    "# Multi GS Classifier using Random Forests\n",
    "\n",
    "### Attempt to classifier GS events with a Random Forest"
   ]
  },
  {
   "cell_type": "markdown",
   "metadata": {},
   "source": [
    "### Labels: 0 = noGS, 1 = GSb , 2 = GSbb"
   ]
  },
  {
   "cell_type": "code",
   "execution_count": 1,
   "metadata": {
    "collapsed": true
   },
   "outputs": [],
   "source": [
    "import numpy as np\n",
    "import pandas as pd\n",
    "from matplotlib import pyplot as plt\n",
    "%matplotlib inline"
   ]
  },
  {
   "cell_type": "code",
   "execution_count": 2,
   "metadata": {},
   "outputs": [
    {
     "name": "stdout",
     "output_type": "stream",
     "text": [
      "(164656, 13)\n"
     ]
    }
   ],
   "source": [
    "df = pd.read_csv('/Users/rohan/research/gs_classifier/output_multigs.csv')\n",
    "print(df.shape)\n",
    "\n",
    "feats = df.iloc[:,0:12]\n",
    "y = df.isgs"
   ]
  },
  {
   "cell_type": "code",
   "execution_count": 3,
   "metadata": {},
   "outputs": [
    {
     "name": "stdout",
     "output_type": "stream",
     "text": [
      "(164656, 12)\n"
     ]
    },
    {
     "data": {
      "text/html": [
       "<div>\n",
       "<style>\n",
       "    .dataframe thead tr:only-child th {\n",
       "        text-align: right;\n",
       "    }\n",
       "\n",
       "    .dataframe thead th {\n",
       "        text-align: left;\n",
       "    }\n",
       "\n",
       "    .dataframe tbody tr th {\n",
       "        vertical-align: top;\n",
       "    }\n",
       "</style>\n",
       "<table border=\"1\" class=\"dataframe\">\n",
       "  <thead>\n",
       "    <tr style=\"text-align: right;\">\n",
       "      <th></th>\n",
       "      <th>weight</th>\n",
       "      <th>dr_bb</th>\n",
       "      <th>bb_pt</th>\n",
       "      <th>bb_m</th>\n",
       "      <th>jet1_csv</th>\n",
       "      <th>jet1_pt</th>\n",
       "      <th>jet1_eta</th>\n",
       "      <th>jet1_phi</th>\n",
       "      <th>jet2_csv</th>\n",
       "      <th>jet2_pt</th>\n",
       "      <th>jet2_eta</th>\n",
       "      <th>jet2_phi</th>\n",
       "    </tr>\n",
       "  </thead>\n",
       "  <tbody>\n",
       "    <tr>\n",
       "      <th>0</th>\n",
       "      <td>0.068587</td>\n",
       "      <td>0.947933</td>\n",
       "      <td>806.513000</td>\n",
       "      <td>418.969666</td>\n",
       "      <td>0.970258</td>\n",
       "      <td>469.232178</td>\n",
       "      <td>-1.552434</td>\n",
       "      <td>0.988524</td>\n",
       "      <td>0.906826</td>\n",
       "      <td>340.613373</td>\n",
       "      <td>-0.622500</td>\n",
       "      <td>1.172366</td>\n",
       "    </tr>\n",
       "    <tr>\n",
       "      <th>1</th>\n",
       "      <td>0.065783</td>\n",
       "      <td>1.710818</td>\n",
       "      <td>345.106720</td>\n",
       "      <td>202.336594</td>\n",
       "      <td>0.993821</td>\n",
       "      <td>47.740227</td>\n",
       "      <td>1.110587</td>\n",
       "      <td>-1.902524</td>\n",
       "      <td>0.958397</td>\n",
       "      <td>346.806488</td>\n",
       "      <td>0.763946</td>\n",
       "      <td>-0.227192</td>\n",
       "    </tr>\n",
       "    <tr>\n",
       "      <th>2</th>\n",
       "      <td>0.069150</td>\n",
       "      <td>0.821434</td>\n",
       "      <td>699.727417</td>\n",
       "      <td>307.803986</td>\n",
       "      <td>0.996421</td>\n",
       "      <td>344.196381</td>\n",
       "      <td>0.981522</td>\n",
       "      <td>-0.860860</td>\n",
       "      <td>0.901411</td>\n",
       "      <td>418.045929</td>\n",
       "      <td>1.034307</td>\n",
       "      <td>-0.041124</td>\n",
       "    </tr>\n",
       "    <tr>\n",
       "      <th>3</th>\n",
       "      <td>0.069805</td>\n",
       "      <td>1.968648</td>\n",
       "      <td>235.376617</td>\n",
       "      <td>302.447571</td>\n",
       "      <td>0.987000</td>\n",
       "      <td>153.347351</td>\n",
       "      <td>0.517652</td>\n",
       "      <td>0.096551</td>\n",
       "      <td>0.862928</td>\n",
       "      <td>140.702484</td>\n",
       "      <td>-0.972188</td>\n",
       "      <td>1.383389</td>\n",
       "    </tr>\n",
       "    <tr>\n",
       "      <th>4</th>\n",
       "      <td>0.068559</td>\n",
       "      <td>1.061551</td>\n",
       "      <td>743.231018</td>\n",
       "      <td>418.841614</td>\n",
       "      <td>0.907696</td>\n",
       "      <td>374.111206</td>\n",
       "      <td>0.631812</td>\n",
       "      <td>1.520363</td>\n",
       "      <td>0.853196</td>\n",
       "      <td>370.016937</td>\n",
       "      <td>-0.425185</td>\n",
       "      <td>1.618583</td>\n",
       "    </tr>\n",
       "  </tbody>\n",
       "</table>\n",
       "</div>"
      ],
      "text/plain": [
       "     weight     dr_bb       bb_pt        bb_m  jet1_csv     jet1_pt  jet1_eta  \\\n",
       "0  0.068587  0.947933  806.513000  418.969666  0.970258  469.232178 -1.552434   \n",
       "1  0.065783  1.710818  345.106720  202.336594  0.993821   47.740227  1.110587   \n",
       "2  0.069150  0.821434  699.727417  307.803986  0.996421  344.196381  0.981522   \n",
       "3  0.069805  1.968648  235.376617  302.447571  0.987000  153.347351  0.517652   \n",
       "4  0.068559  1.061551  743.231018  418.841614  0.907696  374.111206  0.631812   \n",
       "\n",
       "   jet1_phi  jet2_csv     jet2_pt  jet2_eta  jet2_phi  \n",
       "0  0.988524  0.906826  340.613373 -0.622500  1.172366  \n",
       "1 -1.902524  0.958397  346.806488  0.763946 -0.227192  \n",
       "2 -0.860860  0.901411  418.045929  1.034307 -0.041124  \n",
       "3  0.096551  0.862928  140.702484 -0.972188  1.383389  \n",
       "4  1.520363  0.853196  370.016937 -0.425185  1.618583  "
      ]
     },
     "execution_count": 3,
     "metadata": {},
     "output_type": "execute_result"
    }
   ],
   "source": [
    "print(feats.shape)\n",
    "feats.head(5)"
   ]
  },
  {
   "cell_type": "code",
   "execution_count": 4,
   "metadata": {},
   "outputs": [
    {
     "name": "stdout",
     "output_type": "stream",
     "text": [
      "(164656,)\n"
     ]
    },
    {
     "data": {
      "text/plain": [
       "0    2\n",
       "1    2\n",
       "2    0\n",
       "3    1\n",
       "4    0\n",
       "Name: isgs, dtype: int64"
      ]
     },
     "execution_count": 4,
     "metadata": {},
     "output_type": "execute_result"
    }
   ],
   "source": [
    "print(y.shape)\n",
    "y.head(5)"
   ]
  },
  {
   "cell_type": "markdown",
   "metadata": {},
   "source": [
    "## Compute a baseline metric\n",
    "### Here using a simple cut on the dr_bb distribution\n",
    "#### In previous iteration of the RPV search we used dr_bb < 1.6 to classify gs"
   ]
  },
  {
   "cell_type": "code",
   "execution_count": 114,
   "metadata": {},
   "outputs": [
    {
     "name": "stdout",
     "output_type": "stream",
     "text": [
      "# of GS predicted as GS:         345.099\n",
      "# of GS not predicted as GS:     313.982\n",
      "# of not GS predicted as GS:     314.699\n",
      "# of not GS predicted as not GS: 417.843\n"
     ]
    }
   ],
   "source": [
    "print(\"# of GS predicted as GS:         {}\").format(\n",
    "    round(float(sum(df[df.dr_bb<1.6].weight*(df[df.dr_bb<1.6].isgs>0))),3))\n",
    "print(\"# of GS not predicted as GS:     {}\").format(\n",
    "    round(float(sum(df[df.dr_bb>=1.6].weight*(df[df.dr_bb>=1.6].isgs>0))),3))\n",
    "print(\"# of not GS predicted as GS:     {}\").format(\n",
    "    round(float(sum(df[df.dr_bb<1.6].weight*(df[df.dr_bb<1.6].isgs==0))),3))\n",
    "print(\"# of not GS predicted as not GS: {}\").format(\n",
    "    round(float(sum(df[df.dr_bb>=1.6].weight*(df[df.dr_bb>=1.6].isgs==0))),3))"
   ]
  },
  {
   "cell_type": "code",
   "execution_count": 123,
   "metadata": {},
   "outputs": [
    {
     "name": "stdout",
     "output_type": "stream",
     "text": [
      "Accuracy: 0.548\n",
      "Confusion matrix:\n",
      "[[ 345.099  313.982]\n",
      " [ 314.699  417.843]]\n",
      "\n",
      " Normalized confusion matrix:\n",
      "[[ 0.524  0.476]\n",
      " [ 0.43   0.57 ]]\n"
     ]
    }
   ],
   "source": [
    "cm_cut = np.ndarray((2,2), buffer=np.array([345.099, 313.982, 314.699, 417.843]))\n",
    "print(\"Accuracy: {}\").format((cm_cut.trace()/cm_cut.sum()).round(3))\n",
    "print(\"Confusion matrix:\")\n",
    "print(cm_cut)\n",
    "\n",
    "print(\"\\n Normalized confusion matrix:\")\n",
    "print((cm_cut/cm_cut.sum(axis=1)[:, np.newaxis]).round(3))"
   ]
  },
  {
   "cell_type": "markdown",
   "metadata": {},
   "source": [
    "## Split data in train, test, and validation sets"
   ]
  },
  {
   "cell_type": "code",
   "execution_count": 5,
   "metadata": {
    "collapsed": true
   },
   "outputs": [],
   "source": [
    "from sklearn.model_selection import train_test_split\n",
    "feats_train, feats_test, y_train, y_test = train_test_split(feats, y, train_size=0.6, random_state=354)\n",
    "feats_test, feats_val, y_test, y_val = train_test_split(feats_test, y_test, train_size=0.5, random_state=3874)\n",
    "\n",
    "weights_train, X_train = feats_train.weight, feats_train.iloc[:,1:12]\n",
    "weights_test , X_test  = feats_test.weight ,  feats_test.iloc[:,1:12]\n",
    "weights_val  , X_val   = feats_val.weight  ,  feats_val.iloc[:,1:12]"
   ]
  },
  {
   "cell_type": "code",
   "execution_count": 7,
   "metadata": {},
   "outputs": [
    {
     "data": {
      "text/plain": [
       "RandomForestClassifier(bootstrap=True, class_weight=None, criterion='gini',\n",
       "            max_depth=None, max_features='auto', max_leaf_nodes=None,\n",
       "            min_impurity_split=1e-07, min_samples_leaf=1,\n",
       "            min_samples_split=2, min_weight_fraction_leaf=0.0,\n",
       "            n_estimators=100, n_jobs=1, oob_score=False, random_state=None,\n",
       "            verbose=0, warm_start=False)"
      ]
     },
     "execution_count": 7,
     "metadata": {},
     "output_type": "execute_result"
    }
   ],
   "source": [
    "from sklearn.ensemble import RandomForestClassifier\n",
    "\n",
    "# Configure RF\n",
    "rf = RandomForestClassifier(n_estimators=100)\n",
    "rf.fit(X_train, y_train, sample_weight=weights_train.values)"
   ]
  },
  {
   "cell_type": "code",
   "execution_count": 21,
   "metadata": {
    "collapsed": true
   },
   "outputs": [],
   "source": [
    "# Make predictions\n",
    "pred_train = rf.predict(X_train)\n",
    "pred_test = rf.predict(X_test)"
   ]
  },
  {
   "cell_type": "code",
   "execution_count": 23,
   "metadata": {
    "collapsed": true
   },
   "outputs": [],
   "source": [
    "# Collapse confusion matrix into noGS vs GS\n",
    "def get_cm_gs(mat, norm=False):\n",
    "    if mat.shape != (3,3): print(\"Matrix shape must be (3,3)\")\n",
    "        \n",
    "    cm_gs = mat\n",
    "    cm_gs[1,:]+=cm_gs[2,:]\n",
    "    cm_gs[:,1]+=cm_gs[:,2]\n",
    "    cm_gs = cm_gs[:2,:2]\n",
    "    \n",
    "    if norm:\n",
    "        return(cm_gs/cm_gs.sum(axis=1)[:, np.newaxis])\n",
    "    else:\n",
    "        return(cm_gs)"
   ]
  },
  {
   "cell_type": "code",
   "execution_count": 25,
   "metadata": {},
   "outputs": [
    {
     "name": "stdout",
     "output_type": "stream",
     "text": [
      "Train Multi-GS Accuracy: 1.0\n",
      "[[ 1.  0.  0.]\n",
      " [ 0.  1.  0.]\n",
      " [ 0.  0.  1.]]\n",
      "\n",
      "\n",
      "Train GS Accuracy: 1.0\n",
      "[[ 1.  0.]\n",
      " [ 0.  1.]]\n",
      "\n",
      "\n",
      "Test Accuracy: 0.581\n",
      "[[ 0.73542835  0.17566554  0.0889061 ]\n",
      " [ 0.5338034   0.37625723  0.08993938]\n",
      " [ 0.40422675  0.11013163  0.48564162]]\n",
      "\n",
      "\n",
      "Train GS Accuracy: 0.627\n",
      "[[ 0.73542835  0.26457165]\n",
      " [ 0.49043536  0.50956464]]\n"
     ]
    }
   ],
   "source": [
    "from sklearn.metrics import confusion_matrix\n",
    "\n",
    "#Print results\n",
    "# Train accuracy\n",
    "cm_train = confusion_matrix(y_train, pred_train, sample_weight=weights_train.values)\n",
    "print(\"Train Multi-GS Accuracy: {}\").format((cm_train.trace()/cm_train.sum()).round(3))\n",
    "print(cm_train/cm_train.sum(axis=1)[:, np.newaxis])\n",
    "print(\"\\n\")\n",
    "\n",
    "cm_gs_train = get_cm_gs(cm_train)\n",
    "print(\"Train GS Accuracy: {}\").format((cm_gs_train.trace()/cm_gs_train.sum()).round(3))\n",
    "print(cm_gs_train/cm_gs_train.sum(axis=1)[:, np.newaxis])\n",
    "print(\"\\n\")\n",
    "\n",
    "# Test accuracy\n",
    "cm_test = confusion_matrix(y_test, pred_test, sample_weight=weights_test.values)\n",
    "print(\"Test Accuracy: {}\").format((cm_test.trace()/cm_test.sum()).round(3))\n",
    "print(cm_test/cm_test.sum(axis=1)[:, np.newaxis])\n",
    "print(\"\\n\")\n",
    "\n",
    "cm_gs_test = get_cm_gs(cm_test)\n",
    "print(\"Train GS Accuracy: {}\").format((cm_gs_test.trace()/cm_gs_test.sum()).round(3))\n",
    "print(cm_gs_test/cm_gs_test.sum(axis=1)[:, np.newaxis])"
   ]
  },
  {
   "cell_type": "markdown",
   "metadata": {},
   "source": [
    "### Now regularize"
   ]
  },
  {
   "cell_type": "code",
   "execution_count": 142,
   "metadata": {
    "collapsed": true
   },
   "outputs": [],
   "source": [
    "from sklearn.model_selection import GridSearchCV\n",
    "\n",
    "rf_grid = RandomForestClassifier()\n",
    "\n",
    "params = {'max_depth' : range(1,5),\n",
    "          'min_impurity_split' : range(0,30,5),\n",
    "          'criterion' : ['gini','entropy'],\n",
    "          'n_estimators' : [100],\n",
    "          'n_jobs' : [2]\n",
    "         }\n",
    "\n",
    "grid_search = GridSearchCV(estimator=rf_grid,\n",
    "                           param_grid=params)\n"
   ]
  },
  {
   "cell_type": "code",
   "execution_count": 166,
   "metadata": {
    "scrolled": false
   },
   "outputs": [
    {
     "name": "stdout",
     "output_type": "stream",
     "text": [
      "(0, 0): DEPTH = 2, IMPURITY = 0.0\n",
      "Train GS Accuracy: 0.917\n",
      "Test GS Accuracy: 0.52\n",
      "[[ 1.  0.]\n",
      " [ 1.  0.]]\n",
      "\n",
      "\n",
      "(0, 1): DEPTH = 2, IMPURITY = 0.1\n",
      "Train GS Accuracy: 0.92\n",
      "Test GS Accuracy: 0.52\n",
      "[[ 1.  0.]\n",
      " [ 1.  0.]]\n",
      "\n",
      "\n",
      "(0, 2): DEPTH = 2, IMPURITY = 0.2\n",
      "Train GS Accuracy: 0.924\n",
      "Test GS Accuracy: 0.52\n",
      "[[ 1.  0.]\n",
      " [ 1.  0.]]\n",
      "\n",
      "\n",
      "(0, 3): DEPTH = 2, IMPURITY = 0.3\n",
      "Train GS Accuracy: 0.926\n",
      "Test GS Accuracy: 0.52\n",
      "[[ 1.  0.]\n",
      " [ 1.  0.]]\n",
      "\n",
      "\n",
      "(1, 0): DEPTH = 4, IMPURITY = 0.0\n",
      "Train GS Accuracy: 0.929\n",
      "Test GS Accuracy: 0.589\n",
      "[[ 0.87510037  0.12489963]\n",
      " [ 0.72094464  0.27905536]]\n",
      "\n",
      "\n",
      "(1, 1): DEPTH = 4, IMPURITY = 0.1\n",
      "Train GS Accuracy: 0.932\n",
      "Test GS Accuracy: 0.593\n",
      "[[ 0.86598449  0.13401551]\n",
      " [ 0.70376765  0.29623235]]\n",
      "\n",
      "\n",
      "(1, 2): DEPTH = 4, IMPURITY = 0.2\n",
      "Train GS Accuracy: 0.934\n",
      "Test GS Accuracy: 0.591\n",
      "[[ 0.86758472  0.13241528]\n",
      " [ 0.70864006  0.29135994]]\n",
      "\n",
      "\n",
      "(1, 3): DEPTH = 4, IMPURITY = 0.3\n",
      "Train GS Accuracy: 0.936\n",
      "Test GS Accuracy: 0.59\n",
      "[[ 0.87460089  0.12539911]\n",
      " [ 0.71881194  0.28118806]]\n",
      "\n",
      "\n",
      "(2, 0): DEPTH = 6, IMPURITY = 0.0\n",
      "Train GS Accuracy: 0.938\n",
      "Test GS Accuracy: 0.612\n",
      "[[ 0.81240761  0.18759239]\n",
      " [ 0.60470255  0.39529745]]\n",
      "\n",
      "\n",
      "(2, 1): DEPTH = 6, IMPURITY = 0.1\n",
      "Train GS Accuracy: 0.94\n",
      "Test GS Accuracy: 0.612\n",
      "[[ 0.81168025  0.18831975]\n",
      " [ 0.60355815  0.39644185]]\n",
      "\n",
      "\n",
      "(2, 2): DEPTH = 6, IMPURITY = 0.2\n",
      "Train GS Accuracy: 0.942\n",
      "Test GS Accuracy: 0.612\n",
      "[[ 0.81673411  0.18326589]\n",
      " [ 0.61023284  0.38976716]]\n",
      "\n",
      "\n",
      "(2, 3): DEPTH = 6, IMPURITY = 0.3\n",
      "Train GS Accuracy: 0.944\n",
      "Test GS Accuracy: 0.612\n",
      "[[ 0.81431154  0.18568846]\n",
      " [ 0.60789094  0.39210906]]\n",
      "\n",
      "\n",
      "(3, 0): DEPTH = 8, IMPURITY = 0.0\n",
      "Train GS Accuracy: 0.945\n",
      "Test GS Accuracy: 0.622\n",
      "[[ 0.7955932   0.2044068 ]\n",
      " [ 0.56573372  0.43426628]]\n",
      "\n",
      "\n",
      "(3, 1): DEPTH = 8, IMPURITY = 0.1\n",
      "Train GS Accuracy: 0.947\n",
      "Test GS Accuracy: 0.621\n",
      "[[ 0.79718396  0.20281604]\n",
      " [ 0.56962366  0.43037634]]\n",
      "\n",
      "\n",
      "(3, 2): DEPTH = 8, IMPURITY = 0.2\n",
      "Train GS Accuracy: 0.948\n",
      "Test GS Accuracy: 0.621\n",
      "[[ 0.79725402  0.20274598]\n",
      " [ 0.57057062  0.42942938]]\n",
      "\n",
      "\n",
      "(3, 3): DEPTH = 8, IMPURITY = 0.3\n",
      "Train GS Accuracy: 0.95\n",
      "Test GS Accuracy: 0.62\n",
      "[[ 0.79513409  0.20486591]\n",
      " [ 0.57073115  0.42926885]]\n",
      "\n",
      "\n",
      "(4, 0): DEPTH = 10, IMPURITY = 0.0\n",
      "Train GS Accuracy: 0.951\n",
      "Test GS Accuracy: 0.626\n",
      "[[ 0.78394153  0.21605847]\n",
      " [ 0.54589643  0.45410357]]\n",
      "\n",
      "\n",
      "(4, 1): DEPTH = 10, IMPURITY = 0.1\n",
      "Train GS Accuracy: 0.952\n",
      "Test GS Accuracy: 0.625\n",
      "[[ 0.78431205  0.21568795]\n",
      " [ 0.54707897  0.45292103]]\n",
      "\n",
      "\n",
      "(4, 2): DEPTH = 10, IMPURITY = 0.2\n",
      "Train GS Accuracy: 0.953\n",
      "Test GS Accuracy: 0.626\n",
      "[[ 0.78367027  0.21632973]\n",
      " [ 0.54442679  0.45557321]]\n",
      "\n",
      "\n",
      "(4, 3): DEPTH = 10, IMPURITY = 0.3\n",
      "Train GS Accuracy: 0.955\n",
      "Test GS Accuracy: 0.625\n",
      "[[ 0.78575135  0.21424865]\n",
      " [ 0.54856861  0.45143139]]\n",
      "\n",
      "\n",
      "(5, 0): DEPTH = 12, IMPURITY = 0.0\n",
      "Train GS Accuracy: 0.956\n",
      "Test GS Accuracy: 0.629\n",
      "[[ 0.77467834  0.22532166]\n",
      " [ 0.52800602  0.47199398]]\n",
      "\n",
      "\n",
      "(5, 1): DEPTH = 12, IMPURITY = 0.1\n",
      "Train GS Accuracy: 0.957\n",
      "Test GS Accuracy: 0.629\n",
      "[[ 0.77269402  0.22730598]\n",
      " [ 0.527127    0.472873  ]]\n",
      "\n",
      "\n",
      "(5, 2): DEPTH = 12, IMPURITY = 0.2\n",
      "Train GS Accuracy: 0.958\n",
      "Test GS Accuracy: 0.629\n",
      "[[ 0.77449567  0.22550433]\n",
      " [ 0.52964785  0.47035215]]\n",
      "\n",
      "\n",
      "(5, 3): DEPTH = 12, IMPURITY = 0.3\n",
      "Train GS Accuracy: 0.958\n",
      "Test GS Accuracy: 0.629\n",
      "[[ 0.77395073  0.22604927]\n",
      " [ 0.52896552  0.47103448]]\n",
      "\n",
      "\n",
      "(6, 0): DEPTH = 14, IMPURITY = 0.0\n",
      "Train GS Accuracy: 0.959\n",
      "Test GS Accuracy: 0.631\n",
      "[[ 0.76517146  0.23482854]\n",
      " [ 0.51410591  0.48589409]]\n",
      "\n",
      "\n",
      "(6, 1): DEPTH = 14, IMPURITY = 0.1\n",
      "Train GS Accuracy: 0.96\n",
      "Test GS Accuracy: 0.631\n",
      "[[ 0.76759702  0.23240298]\n",
      " [ 0.51732375  0.48267625]]\n",
      "\n",
      "\n",
      "(6, 2): DEPTH = 14, IMPURITY = 0.2\n",
      "Train GS Accuracy: 0.961\n",
      "Test GS Accuracy: 0.629\n",
      "[[ 0.76598817  0.23401183]\n",
      " [ 0.51884573  0.48115427]]\n",
      "\n",
      "\n",
      "(6, 3): DEPTH = 14, IMPURITY = 0.3\n",
      "Train GS Accuracy: 0.962\n",
      "Test GS Accuracy: 0.628\n",
      "[[ 0.76400864  0.23599136]\n",
      " [ 0.51890095  0.48109905]]\n",
      "\n",
      "\n",
      "(7, 0): DEPTH = 16, IMPURITY = 0.0\n",
      "Train GS Accuracy: 0.963\n",
      "Test GS Accuracy: 0.632\n",
      "[[ 0.75926574  0.24073426]\n",
      " [ 0.50674081  0.49325919]]\n",
      "\n",
      "\n",
      "(7, 1): DEPTH = 16, IMPURITY = 0.1\n",
      "Train GS Accuracy: 0.963\n",
      "Test GS Accuracy: 0.631\n",
      "[[ 0.75992102  0.24007898]\n",
      " [ 0.50916278  0.49083722]]\n",
      "\n",
      "\n",
      "(7, 2): DEPTH = 16, IMPURITY = 0.2\n",
      "Train GS Accuracy: 0.964\n",
      "Test GS Accuracy: 0.632\n",
      "[[ 0.76018297  0.23981703]\n",
      " [ 0.50675939  0.49324061]]\n",
      "\n",
      "\n",
      "(7, 3): DEPTH = 16, IMPURITY = 0.3\n",
      "Train GS Accuracy: 0.965\n",
      "Test GS Accuracy: 0.631\n",
      "[[ 0.76430506  0.23569494]\n",
      " [ 0.51290801  0.48709199]]\n",
      "\n",
      "\n"
     ]
    }
   ],
   "source": [
    "rf_grids = []\n",
    "for ix, depth in enumerate(range(2,17,2)):\n",
    "    for iy, impurity in enumerate(np.arange(0,0.4,0.1)):\n",
    "    \n",
    "        print(\"({}, {}): DEPTH = {}, IMPURITY = {}\").format(ix, iy,depth,impurity)\n",
    "\n",
    "        rf_grid = RandomForestClassifier(n_estimators=500, n_jobs=3, max_depth=depth, min_impurity_split=impurity)\n",
    "        rf_grid.fit(X_train, y_train, sample_weight=weights_train.values)\n",
    "\n",
    "        rf_grids.append(rf_grid)\n",
    "        \n",
    "        # Print results\n",
    "        # Train accuracy\n",
    "#        cm_train = confusion_matrix(y_train, rf_grid.predict(X_train), sample_weight=weights_train.values)\n",
    "#        print(\"Train Multi-GS Accuracy: {}\").format((cm_train.trace()/cm_train.sum()).round(3))\n",
    "#        print(cm_train/cm_train.sum(axis=1)[:, np.newaxis])\n",
    "#        print(\"\\n\")\n",
    "\n",
    "        cm_gs_train = get_cm_gs(cm_train)\n",
    "        print(\"Train GS Accuracy: {}\").format((cm_gs_train.trace()/cm_gs_train.sum()).round(3))\n",
    "#        print(cm_gs_train/cm_gs_train.sum(axis=1)[:, np.newaxis])\n",
    "#        print(\"\\n\")\n",
    "\n",
    "        # Test accuracy\n",
    "        cm_test = confusion_matrix(y_test, rf_grid.predict(X_test), sample_weight=weights_test.values)\n",
    "#        print(\"Test Accuracy: {}\").format((cm_test.trace()/cm_test.sum()).round(3))\n",
    "#        print(cm_test/cm_test.sum(axis=1)[:, np.newaxis])\n",
    "#        print(\"\\n\")\n",
    "\n",
    "        cm_gs_test = get_cm_gs(cm_test)\n",
    "        print(\"Test GS Accuracy: {}\").format((cm_gs_test.trace()/cm_gs_test.sum()).round(3))\n",
    "        print(cm_gs_test/cm_gs_test.sum(axis=1)[:, np.newaxis])\n",
    "        print('\\n')"
   ]
  },
  {
   "cell_type": "markdown",
   "metadata": {},
   "source": [
    "### Conclusion\n",
    "\n",
    "#### Using a random forest did not improve on the decision tree.\n",
    "#### Random Forests are beneficial for two reasons 1) They reduce overfitting and 2) They force the trees to learn other secondary variables\n",
    "#### But the original decision tree 1) was not overfitting  and 2) there are really only a few (non-correlated) variables that discriminate, i.e. dr_bb/bb_m, jet1_csv, and jet2_csv"
   ]
  }
 ],
 "metadata": {
  "kernelspec": {
   "display_name": "Python 2",
   "language": "python",
   "name": "python2"
  },
  "language_info": {
   "codemirror_mode": {
    "name": "ipython",
    "version": 2
   },
   "file_extension": ".py",
   "mimetype": "text/x-python",
   "name": "python",
   "nbconvert_exporter": "python",
   "pygments_lexer": "ipython2",
   "version": "2.7.13"
  }
 },
 "nbformat": 4,
 "nbformat_minor": 2
}
