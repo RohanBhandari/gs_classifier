{
 "cells": [
  {
   "cell_type": "markdown",
   "metadata": {},
   "source": [
    "# Multi-GS Classifier\n",
    "### Attempt to label events with gluon splitting and differentiate types of gluon splitting"
   ]
  },
  {
   "cell_type": "markdown",
   "metadata": {},
   "source": [
    "### Labels: 0 = noGS, 1 = GSb , 2 = GSbb"
   ]
  },
  {
   "cell_type": "markdown",
   "metadata": {},
   "source": [
    "## Setup the data"
   ]
  },
  {
   "cell_type": "code",
   "execution_count": 3,
   "metadata": {
    "collapsed": true
   },
   "outputs": [],
   "source": [
    "import numpy as np\n",
    "import pandas as pd\n",
    "\n",
    "from matplotlib import pyplot as plt\n",
    "%matplotlib inline"
   ]
  },
  {
   "cell_type": "code",
   "execution_count": 4,
   "metadata": {
    "collapsed": true
   },
   "outputs": [],
   "source": [
    "df = pd.read_csv('/Users/rohan/research/gs_classifier/output_multigs.csv')\n",
    "\n",
    "feats = df.iloc[:,0:12]\n",
    "y = df.isgs"
   ]
  },
  {
   "cell_type": "code",
   "execution_count": 5,
   "metadata": {},
   "outputs": [
    {
     "data": {
      "text/plain": [
       "(164656, 12)"
      ]
     },
     "execution_count": 5,
     "metadata": {},
     "output_type": "execute_result"
    }
   ],
   "source": [
    "feats.shape"
   ]
  },
  {
   "cell_type": "code",
   "execution_count": 6,
   "metadata": {},
   "outputs": [
    {
     "data": {
      "text/html": [
       "<div>\n",
       "<style>\n",
       "    .dataframe thead tr:only-child th {\n",
       "        text-align: right;\n",
       "    }\n",
       "\n",
       "    .dataframe thead th {\n",
       "        text-align: left;\n",
       "    }\n",
       "\n",
       "    .dataframe tbody tr th {\n",
       "        vertical-align: top;\n",
       "    }\n",
       "</style>\n",
       "<table border=\"1\" class=\"dataframe\">\n",
       "  <thead>\n",
       "    <tr style=\"text-align: right;\">\n",
       "      <th></th>\n",
       "      <th>weight</th>\n",
       "      <th>dr_bb</th>\n",
       "      <th>bb_pt</th>\n",
       "      <th>bb_m</th>\n",
       "      <th>jet1_csv</th>\n",
       "      <th>jet1_pt</th>\n",
       "      <th>jet1_eta</th>\n",
       "      <th>jet1_phi</th>\n",
       "      <th>jet2_csv</th>\n",
       "      <th>jet2_pt</th>\n",
       "      <th>jet2_eta</th>\n",
       "      <th>jet2_phi</th>\n",
       "    </tr>\n",
       "  </thead>\n",
       "  <tbody>\n",
       "    <tr>\n",
       "      <th>0</th>\n",
       "      <td>0.068587</td>\n",
       "      <td>0.947933</td>\n",
       "      <td>806.513000</td>\n",
       "      <td>418.969666</td>\n",
       "      <td>0.970258</td>\n",
       "      <td>469.232178</td>\n",
       "      <td>-1.552434</td>\n",
       "      <td>0.988524</td>\n",
       "      <td>0.906826</td>\n",
       "      <td>340.613373</td>\n",
       "      <td>-0.622500</td>\n",
       "      <td>1.172366</td>\n",
       "    </tr>\n",
       "    <tr>\n",
       "      <th>1</th>\n",
       "      <td>0.065783</td>\n",
       "      <td>1.710818</td>\n",
       "      <td>345.106720</td>\n",
       "      <td>202.336594</td>\n",
       "      <td>0.993821</td>\n",
       "      <td>47.740227</td>\n",
       "      <td>1.110587</td>\n",
       "      <td>-1.902524</td>\n",
       "      <td>0.958397</td>\n",
       "      <td>346.806488</td>\n",
       "      <td>0.763946</td>\n",
       "      <td>-0.227192</td>\n",
       "    </tr>\n",
       "    <tr>\n",
       "      <th>2</th>\n",
       "      <td>0.069150</td>\n",
       "      <td>0.821434</td>\n",
       "      <td>699.727417</td>\n",
       "      <td>307.803986</td>\n",
       "      <td>0.996421</td>\n",
       "      <td>344.196381</td>\n",
       "      <td>0.981522</td>\n",
       "      <td>-0.860860</td>\n",
       "      <td>0.901411</td>\n",
       "      <td>418.045929</td>\n",
       "      <td>1.034307</td>\n",
       "      <td>-0.041124</td>\n",
       "    </tr>\n",
       "    <tr>\n",
       "      <th>3</th>\n",
       "      <td>0.069805</td>\n",
       "      <td>1.968648</td>\n",
       "      <td>235.376617</td>\n",
       "      <td>302.447571</td>\n",
       "      <td>0.987000</td>\n",
       "      <td>153.347351</td>\n",
       "      <td>0.517652</td>\n",
       "      <td>0.096551</td>\n",
       "      <td>0.862928</td>\n",
       "      <td>140.702484</td>\n",
       "      <td>-0.972188</td>\n",
       "      <td>1.383389</td>\n",
       "    </tr>\n",
       "    <tr>\n",
       "      <th>4</th>\n",
       "      <td>0.068559</td>\n",
       "      <td>1.061551</td>\n",
       "      <td>743.231018</td>\n",
       "      <td>418.841614</td>\n",
       "      <td>0.907696</td>\n",
       "      <td>374.111206</td>\n",
       "      <td>0.631812</td>\n",
       "      <td>1.520363</td>\n",
       "      <td>0.853196</td>\n",
       "      <td>370.016937</td>\n",
       "      <td>-0.425185</td>\n",
       "      <td>1.618583</td>\n",
       "    </tr>\n",
       "  </tbody>\n",
       "</table>\n",
       "</div>"
      ],
      "text/plain": [
       "     weight     dr_bb       bb_pt        bb_m  jet1_csv     jet1_pt  jet1_eta  \\\n",
       "0  0.068587  0.947933  806.513000  418.969666  0.970258  469.232178 -1.552434   \n",
       "1  0.065783  1.710818  345.106720  202.336594  0.993821   47.740227  1.110587   \n",
       "2  0.069150  0.821434  699.727417  307.803986  0.996421  344.196381  0.981522   \n",
       "3  0.069805  1.968648  235.376617  302.447571  0.987000  153.347351  0.517652   \n",
       "4  0.068559  1.061551  743.231018  418.841614  0.907696  374.111206  0.631812   \n",
       "\n",
       "   jet1_phi  jet2_csv     jet2_pt  jet2_eta  jet2_phi  \n",
       "0  0.988524  0.906826  340.613373 -0.622500  1.172366  \n",
       "1 -1.902524  0.958397  346.806488  0.763946 -0.227192  \n",
       "2 -0.860860  0.901411  418.045929  1.034307 -0.041124  \n",
       "3  0.096551  0.862928  140.702484 -0.972188  1.383389  \n",
       "4  1.520363  0.853196  370.016937 -0.425185  1.618583  "
      ]
     },
     "execution_count": 6,
     "metadata": {},
     "output_type": "execute_result"
    }
   ],
   "source": [
    "feats.head(5)"
   ]
  },
  {
   "cell_type": "code",
   "execution_count": 7,
   "metadata": {},
   "outputs": [
    {
     "data": {
      "text/plain": [
       "(164656,)"
      ]
     },
     "execution_count": 7,
     "metadata": {},
     "output_type": "execute_result"
    }
   ],
   "source": [
    "y.shape"
   ]
  },
  {
   "cell_type": "code",
   "execution_count": 8,
   "metadata": {},
   "outputs": [
    {
     "data": {
      "text/plain": [
       "0    2\n",
       "1    2\n",
       "2    0\n",
       "3    1\n",
       "4    0\n",
       "Name: isgs, dtype: int64"
      ]
     },
     "execution_count": 8,
     "metadata": {},
     "output_type": "execute_result"
    }
   ],
   "source": [
    "y.head(5)"
   ]
  },
  {
   "cell_type": "markdown",
   "metadata": {},
   "source": [
    "#### Use K-folds for cross-validation"
   ]
  },
  {
   "cell_type": "code",
   "execution_count": 5,
   "metadata": {
    "collapsed": true
   },
   "outputs": [],
   "source": [
    "from sklearn.model_selection import KFold\n",
    "n_folds = 5\n",
    "kf = KFold(n_splits=n_folds, shuffle=True, random_state=452)"
   ]
  },
  {
   "cell_type": "markdown",
   "metadata": {},
   "source": [
    "## Decision Tree\n",
    "#### Loop over the folds, train, and evaluate the decision tree"
   ]
  },
  {
   "cell_type": "code",
   "execution_count": 6,
   "metadata": {
    "collapsed": true
   },
   "outputs": [],
   "source": [
    "def get_cm_gs(mat, norm=False):\n",
    "    if mat.shape != (3,3): print(\"Matrix shape must be (3,3)\")\n",
    "        \n",
    "    cm_gs = mat\n",
    "    cm_gs[1,:]+=cm_gs[2,:]\n",
    "    cm_gs[:,1]+=cm_gs[:,2]\n",
    "    cm_gs = cm_gs[:2,:2]\n",
    "    \n",
    "    if norm:\n",
    "        return(cm_gs/cm_gs.sum(axis=1)[:, np.newaxis])\n",
    "    else:\n",
    "        return(cm_gs)"
   ]
  },
  {
   "cell_type": "code",
   "execution_count": 7,
   "metadata": {},
   "outputs": [
    {
     "name": "stdout",
     "output_type": "stream",
     "text": [
      "Fold 1:\n",
      "\tTrain accuracy: 1.000\n",
      "\tTest accuracy: 0.483\n",
      "\n",
      "Fold 2:\n",
      "\tTrain accuracy: 1.000\n",
      "\tTest accuracy: 0.472\n",
      "\n",
      "Fold 3:\n",
      "\tTrain accuracy: 1.000\n",
      "\tTest accuracy: 0.477\n",
      "\n",
      "Fold 4:\n",
      "\tTrain accuracy: 1.000\n",
      "\tTest accuracy: 0.478\n",
      "\n",
      "Fold 5:\n",
      "\tTrain accuracy: 1.000\n",
      "\tTest accuracy: 0.472\n",
      "\n",
      "Mean train accuracy: 1.000\n",
      "Train CM:\n",
      " [[ 2930.166     0.        0.   ]\n",
      " [    0.     1755.733     0.   ]\n",
      " [    0.        0.      880.591]]\n",
      "\n",
      "Norm. Train CM:\n",
      " [[ 1.  0.  0.]\n",
      " [ 0.  1.  0.]\n",
      " [ 0.  0.  1.]]\n",
      "\n",
      "Mean test accuracy: 0.476\n",
      "Test CM:\n",
      " [[ 402.475  232.988   97.079]\n",
      " [ 205.903  177.405   55.625]\n",
      " [  83.284   54.169   82.695]]\n",
      "\n",
      "Norm. Test CM:\n",
      " [[ 0.54942287  0.31805365  0.13252349]\n",
      " [ 0.46909773  0.4041737   0.12672857]\n",
      " [ 0.37830829  0.24605875  0.37563296]] \n",
      "\n",
      "Norm. Test CM GS:\n",
      " [[ 0.54942287  0.45057713]\n",
      " [ 0.43877202  0.56122798]]\n"
     ]
    }
   ],
   "source": [
    "from sklearn.tree import DecisionTreeClassifier\n",
    "from sklearn.metrics import roc_auc_score\n",
    "from sklearn.metrics import confusion_matrix\n",
    "from sklearn.preprocessing import label_binarize\n",
    "tree = DecisionTreeClassifier(random_state=368)\n",
    "cm_trains = np.zeros((3,3))\n",
    "cm_tests = np.zeros((3,3))\n",
    "for idx, (train, test) in enumerate(kf.split(feats, y)):\n",
    "    # Setup weights and train/test sets\n",
    "    train_weights = list(feats.iloc[train,0])\n",
    "    X_train, y_train = feats.iloc[train,1:12], y.iloc[train]\n",
    "    test_weights = list(feats.iloc[test,0])\n",
    "    X_test, y_test = feats.iloc[test, 1:12], y.iloc[test]\n",
    "    \n",
    "    # Train tree\n",
    "    tree.fit(X_train, y_train, sample_weight=train_weights)\n",
    "\n",
    "    # Evaluate with confusion matrix\n",
    "    # Print accuracy for each fold and the summed confusion matrix at the end\n",
    "    print(\"Fold {}:\").format(idx+1)\n",
    "\n",
    "    cm_train = confusion_matrix(y_train, tree.predict(X_train), sample_weight=train_weights)\n",
    "    print(\"\\tTrain accuracy: {:.3f}\").format(cm_train.trace()/cm_train.sum())\n",
    "    cm_trains += cm_train\n",
    "    \n",
    "    cm_test = confusion_matrix(y_test, tree.predict(X_test), sample_weight=test_weights)\n",
    "    print(\"\\tTest accuracy: {:.3f}\\n\").format(cm_test.trace()/cm_test.sum())\n",
    "    cm_tests += cm_test\n",
    "    \n",
    "print(\"Mean train accuracy: {:.3f}\").format(cm_trains.trace()/cm_trains.sum())\n",
    "print(\"Train CM:\\n {}\\n\").format(cm_trains.round(3))\n",
    "print(\"Norm. Train CM:\\n {}\\n\").format(cm_trains/cm_trains.sum(axis=1))\n",
    "print(\"Mean test accuracy: {:.3f}\").format(cm_tests.trace()/cm_tests.sum())\n",
    "print(\"Test CM:\\n {}\\n\").format(cm_tests.round(3))\n",
    "print(\"Norm. Test CM:\\n {} \\n\").format(cm_tests/cm_tests.sum(axis=1)[:, np.newaxis])\n",
    "print(\"Norm. Test CM GS:\\n {}\").format(get_cm_gs(cm_tests,True))"
   ]
  },
  {
   "cell_type": "markdown",
   "metadata": {},
   "source": [
    "## Try Limiting Max Depth "
   ]
  },
  {
   "cell_type": "code",
   "execution_count": 12,
   "metadata": {
    "scrolled": false
   },
   "outputs": [
    {
     "name": "stdout",
     "output_type": "stream",
     "text": [
      "Depth 1:\n",
      "Mean train accuracy: 0.526\n",
      "Mean test accuracy: 0.526\n",
      "Mean test gs accuracy: 0.526\n",
      "\n",
      "Test CM:\n",
      " [[ 732.542    0.       0.   ]\n",
      " [ 659.081    0.       0.   ]\n",
      " [ 220.148    0.       0.   ]]\n",
      "\n",
      "Norm. Test CM:\n",
      " [[ 1.  0.  0.]\n",
      " [ 1.  0.  0.]\n",
      " [ 1.  0.  0.]] \n",
      "\n",
      "Norm. Test CM GS:\n",
      " [[ 1.  0.]\n",
      " [ 1.  0.]]\n",
      "\n",
      "[ 1.  0.  0.  0.  0.  0.  0.  0.  0.  0.  0.]\n",
      "\n",
      "Depth 2:\n",
      "Mean train accuracy: 0.543\n",
      "Mean test accuracy: 0.542\n",
      "Mean test gs accuracy: 0.560\n",
      "\n",
      "Test CM:\n",
      " [[ 563.324  169.218    0.   ]\n",
      " [ 443.502  215.579    0.   ]\n",
      " [ 195.845   24.303    0.   ]]\n",
      "\n",
      "Norm. Test CM:\n",
      " [[ 0.76899936  0.23100064  0.        ]\n",
      " [ 0.67290961  0.32709039  0.        ]\n",
      " [ 0.88960532  0.11039468  0.        ]] \n",
      "\n",
      "Norm. Test CM GS:\n",
      " [[ 0.76899936  0.23100064]\n",
      " [ 0.72716749  0.27283251]]\n",
      "\n",
      "[ 0.49109494  0.          0.          0.50890506  0.          0.          0.\n",
      "  0.          0.          0.          0.        ]\n",
      "\n",
      "Depth 3:\n",
      "Mean train accuracy: 0.566\n",
      "Mean test accuracy: 0.564\n",
      "Mean test gs accuracy: 0.609\n",
      "\n",
      "Test CM:\n",
      " [[ 520.     212.542   87.447]\n",
      " [ 331.043  328.038  166.969]\n",
      " [  97.882  122.266  112.838]]\n",
      "\n",
      "Norm. Test CM:\n",
      " [[ 0.63415489  0.25920125  0.10664386]\n",
      " [ 0.40075416  0.3971165   0.20212933]\n",
      " [ 0.29395274  0.36717924  0.33886802]] \n",
      "\n",
      "Norm. Test CM GS:\n",
      " [[ 0.63415489  0.36584511]\n",
      " [ 0.37007056  0.62992944]]\n",
      "\n",
      "[ 0.41083995  0.          0.1139999   0.45332056  0.          0.          0.\n",
      "  0.02183959  0.          0.          0.        ]\n",
      "\n",
      "Depth 4:\n",
      "Mean train accuracy: 0.574\n",
      "Mean test accuracy: 0.572\n",
      "Mean test gs accuracy: 0.611\n",
      "\n",
      "Test CM:\n",
      " [[ 574.602  157.939   71.252]\n",
      " [ 383.106  275.975  139.408]\n",
      " [ 109.25   110.898   97.685]]\n",
      "\n",
      "Norm. Test CM:\n",
      " [[ 0.71486272  0.19649211  0.08864516]\n",
      " [ 0.47978816  0.34562189  0.17458995]\n",
      " [ 0.34373321  0.34892044  0.30734636]] \n",
      "\n",
      "Norm. Test CM GS:\n",
      " [[ 0.71486272  0.28513728]\n",
      " [ 0.4410514   0.5589486 ]]\n",
      "\n",
      "[ 0.37244418  0.          0.13696759  0.44933356  0.02145614  0.          0.\n",
      "  0.01979853  0.          0.          0.        ]\n",
      "\n",
      "Depth 5:\n",
      "Mean train accuracy: 0.577\n",
      "Mean test accuracy: 0.571\n",
      "Mean test gs accuracy: 0.610\n",
      "\n",
      "Test CM:\n",
      " [[ 575.271  157.271   64.28 ]\n",
      " [ 384.943  274.138  131.766]\n",
      " [ 112.655  107.493   92.538]]\n",
      "\n",
      "Norm. Test CM:\n",
      " [[ 0.72195644  0.19737284  0.08067072]\n",
      " [ 0.48674729  0.34663913  0.16661358]\n",
      " [ 0.36028211  0.34377201  0.29594587]] \n",
      "\n",
      "Norm. Test CM GS:\n",
      " [[ 0.72195644  0.27804356]\n",
      " [ 0.45091339  0.54908661]]\n",
      "\n",
      "[ 0.36908302  0.00943636  0.13280469  0.42318049  0.02390318  0.00722977\n",
      "  0.          0.02466628  0.0096962   0.          0.        ]\n",
      "\n",
      "Depth 6:\n",
      "Mean train accuracy: 0.584\n",
      "Mean test accuracy: 0.576\n",
      "Mean test gs accuracy: 0.621\n",
      "\n",
      "Test CM:\n",
      " [[ 546.56   185.982   69.953]\n",
      " [ 341.976  317.105  143.635]\n",
      " [ 100.099  120.049  100.704]]\n",
      "\n",
      "Norm. Test CM:\n",
      " [[ 0.68107609  0.23175498  0.08716893]\n",
      " [ 0.42602376  0.39504049  0.17893575]\n",
      " [ 0.31197754  0.37415713  0.31386533]] \n",
      "\n",
      "Norm. Test CM GS:\n",
      " [[ 0.68107609  0.31892391]\n",
      " [ 0.39345609  0.60654391]]\n",
      "\n",
      "[ 0.35469416  0.01675752  0.12485589  0.40384654  0.03037881  0.01361944\n",
      "  0.          0.03136994  0.02013914  0.00433856  0.        ]\n",
      "\n",
      "Depth 7:\n",
      "Mean train accuracy: 0.591\n",
      "Mean test accuracy: 0.578\n",
      "Mean test gs accuracy: 0.619\n",
      "\n",
      "Test CM:\n",
      " [[ 558.061  174.481   63.951]\n",
      " [ 356.006  303.075  133.921]\n",
      " [ 103.81   116.338   96.578]]\n",
      "\n",
      "Norm. Test CM:\n",
      " [[ 0.70064756  0.21906178  0.08029066]\n",
      " [ 0.44893481  0.38218617  0.16887902]\n",
      " [ 0.3277589   0.36731437  0.30492673]] \n",
      "\n",
      "Norm. Test CM GS:\n",
      " [[ 0.70064756  0.29935244]\n",
      " [ 0.41435016  0.58564984]]\n",
      "\n",
      "[  3.36363801e-01   2.09471784e-02   1.20272078e-01   3.80121316e-01\n",
      "   3.90761050e-02   1.69610308e-02   0.00000000e+00   5.08275791e-02\n",
      "   2.50816150e-02   1.01305675e-02   2.18729541e-04]\n",
      "\n",
      "Depth 8:\n",
      "Mean train accuracy: 0.600\n",
      "Mean test accuracy: 0.577\n",
      "Mean test gs accuracy: 0.622\n",
      "\n",
      "Test CM:\n",
      " [[ 549.709  182.832   67.465]\n",
      " [ 342.817  316.264  138.529]\n",
      " [  97.041  123.107   99.036]]\n",
      "\n",
      "Norm. Test CM:\n",
      " [[ 0.68713103  0.22853839  0.08433057]\n",
      " [ 0.42980486  0.39651501  0.17368014]\n",
      " [ 0.30402931  0.38569132  0.31027937]] \n",
      "\n",
      "Norm. Test CM GS:\n",
      " [[ 0.68713103  0.31286897]\n",
      " [ 0.39385772  0.60614228]]\n",
      "\n",
      "[ 0.31632091  0.0299283   0.11692228  0.35262269  0.04547741  0.0244656\n",
      "  0.00216495  0.05508861  0.02685263  0.02346448  0.00669214]\n",
      "\n",
      "Depth 9:\n",
      "Mean train accuracy: 0.611\n",
      "Mean test accuracy: 0.574\n",
      "Mean test gs accuracy: 0.623\n",
      "\n",
      "Test CM:\n",
      " [[ 538.662  193.88    74.741]\n",
      " [ 330.159  328.922  148.99 ]\n",
      " [  89.624  130.524  105.523]]\n",
      "\n",
      "Norm. Test CM:\n",
      " [[ 0.66725297  0.24016371  0.09258332]\n",
      " [ 0.40857665  0.40704633  0.18437702]\n",
      " [ 0.27519756  0.40078611  0.32401633]] \n",
      "\n",
      "Norm. Test CM GS:\n",
      " [[ 0.66725297  0.33274703]\n",
      " [ 0.37026312  0.62973688]]\n",
      "\n",
      "[ 0.29363374  0.03464357  0.11757058  0.32512314  0.0505451   0.03505313\n",
      "  0.00768077  0.06169776  0.03206708  0.02957811  0.01240702]\n",
      "\n",
      "Depth 10:\n",
      "Mean train accuracy: 0.624\n",
      "Mean test accuracy: 0.570\n",
      "Mean test gs accuracy: 0.618\n",
      "\n",
      "Test CM:\n",
      " [[ 536.502  196.04    71.528]\n",
      " [ 335.105  323.976  144.093]\n",
      " [  94.615  125.533  100.888]]\n",
      "\n",
      "Norm. Test CM:\n",
      " [[ 0.66723289  0.24380937  0.08895774]\n",
      " [ 0.41722591  0.40336996  0.17940413]\n",
      " [ 0.2947183   0.39102343  0.31425828]] \n",
      "\n",
      "Norm. Test CM GS:\n",
      " [[ 0.66723289  0.33276711]\n",
      " [ 0.3822419   0.6177581 ]]\n",
      "\n",
      "[ 0.26744279  0.04530327  0.11751842  0.29355818  0.05608319  0.04207433\n",
      "  0.01095209  0.06541235  0.03983278  0.03952514  0.02229744]\n",
      "\n",
      "Depth 11:\n",
      "Mean train accuracy: 0.641\n",
      "Mean test accuracy: 0.565\n",
      "Mean test gs accuracy: 0.614\n",
      "\n",
      "Test CM:\n",
      " [[ 526.879  205.662   73.023]\n",
      " [ 331.363  327.718  143.431]\n",
      " [  93.766  126.382  100.473]]\n",
      "\n",
      "Norm. Test CM:\n",
      " [[ 0.65404967  0.25530219  0.09064814]\n",
      " [ 0.4129069   0.40836536  0.17872774]\n",
      " [ 0.29245265  0.39417811  0.31336924]] \n",
      "\n",
      "Norm. Test CM GS:\n",
      " [[ 0.65404967  0.34595033]\n",
      " [ 0.37852085  0.62147915]]\n",
      "\n",
      "[ 0.24271313  0.05200227  0.11190716  0.26789126  0.05955974  0.05170522\n",
      "  0.02431898  0.07060835  0.04495265  0.04557858  0.02876264]\n",
      "\n",
      "Depth 12:\n",
      "Mean train accuracy: 0.661\n",
      "Mean test accuracy: 0.560\n",
      "Mean test gs accuracy: 0.611\n",
      "\n",
      "Test CM:\n",
      " [[ 519.561  212.98    72.041]\n",
      " [ 328.512  330.569  140.424]\n",
      " [  93.293  126.855   98.114]]\n",
      "\n",
      "Norm. Test CM:\n",
      " [[ 0.6457527   0.26470892  0.08953838]\n",
      " [ 0.41089376  0.41346714  0.1756391 ]\n",
      " [ 0.29313175  0.39858725  0.30828099]] \n",
      "\n",
      "Norm. Test CM GS:\n",
      " [[ 0.6457527   0.3542473 ]\n",
      " [ 0.37736338  0.62263662]]\n",
      "\n",
      "[ 0.22371465  0.05556658  0.10625177  0.24375984  0.06554386  0.05908463\n",
      "  0.03499665  0.07442359  0.05010866  0.05050819  0.03604157]\n",
      "\n",
      "Depth 13:\n",
      "Mean train accuracy: 0.684\n",
      "Mean test accuracy: 0.554\n",
      "Mean test gs accuracy: 0.608\n",
      "\n",
      "Test CM:\n",
      " [[ 508.067  224.475   78.754]\n",
      " [ 320.919  338.162  146.297]\n",
      " [  89.347  130.8    101.122]]\n",
      "\n",
      "Norm. Test CM:\n",
      " [[ 0.62624086  0.27668709  0.09707205]\n",
      " [ 0.39846957  0.41988047  0.18164996]\n",
      " [ 0.27810718  0.40713602  0.31475681]] \n",
      "\n",
      "Norm. Test CM GS:\n",
      " [[ 0.62624086  0.37375914]\n",
      " [ 0.36414758  0.63585242]]\n",
      "\n",
      "[ 0.20233831  0.05839402  0.10320274  0.22271057  0.06932761  0.06191483\n",
      "  0.04366793  0.07985703  0.05693729  0.05622435  0.04542532]\n",
      "\n",
      "Depth 14:\n",
      "Mean train accuracy: 0.709\n",
      "Mean test accuracy: 0.547\n",
      "Mean test gs accuracy: 0.604\n",
      "\n",
      "Test CM:\n",
      " [[ 499.409  233.132   79.583]\n",
      " [ 317.892  341.189  145.577]\n",
      " [  88.168  131.979   99.092]]\n",
      "\n",
      "Norm. Test CM:\n",
      " [[ 0.61494222  0.28706463  0.09799315]\n",
      " [ 0.39506503  0.42401762  0.18091735]\n",
      " [ 0.27618264  0.41341769  0.31039967]] \n",
      "\n",
      "Norm. Test CM GS:\n",
      " [[ 0.61494222  0.38505778]\n",
      " [ 0.36129684  0.63870316]]\n",
      "\n",
      "[ 0.18435837  0.0611214   0.1039591   0.2049      0.07160518  0.06468948\n",
      "  0.05147546  0.08301323  0.06062781  0.06083679  0.05341316]\n",
      "\n"
     ]
    }
   ],
   "source": [
    "depth_trees = []\n",
    "for depth in range(1,15):\n",
    "    print(\"Depth {}:\").format(depth)\n",
    "    tree = DecisionTreeClassifier(random_state=368, max_depth=depth)\n",
    "    cm_trains = np.zeros((3,3))\n",
    "    cm_tests = np.zeros((3,3))\n",
    "    for idx, (train, test) in enumerate(kf.split(feats, y)):\n",
    "        # Setup weights and train/test sets\n",
    "        train_weights = list(feats.iloc[train,0])\n",
    "        X_train, y_train = feats.iloc[train,1:12], y.iloc[train]\n",
    "        test_weights = list(feats.iloc[test,0])\n",
    "        X_test, y_test = feats.iloc[test, 1:12], y.iloc[test]\n",
    "    \n",
    "        # Train tree\n",
    "        tree.fit(X_train, y_train, sample_weight=train_weights)\n",
    "\n",
    "        # Evaluate with confusion matrix\n",
    "        # Print accuracy for each fold and the summed confusion matrix at the end\n",
    "        cm_train = confusion_matrix(y_train, tree.predict(X_train), sample_weight=train_weights)\n",
    "        cm_trains += cm_train\n",
    "    \n",
    "        cm_test = confusion_matrix(y_test, tree.predict(X_test), sample_weight=test_weights)\n",
    "        cm_tests += cm_test\n",
    "    \n",
    "    print(\"Mean train accuracy: {:.3f}\").format(cm_trains.trace()/cm_trains.sum())\n",
    "    print(\"Mean test accuracy: {:.3f}\").format(cm_tests.trace()/cm_tests.sum())\n",
    "\n",
    "    mat_cm_gs = get_cm_gs(cm_tests)\n",
    "    print(\"Mean test gs accuracy: {:.3f}\\n\").format(mat_cm_gs.trace()/mat_cm_gs.sum())\n",
    "    \n",
    "    print(\"Test CM:\\n {}\\n\").format(cm_tests.round(3))\n",
    "    print(\"Norm. Test CM:\\n {} \\n\").format(cm_tests/cm_tests.sum(axis=1)[:, np.newaxis])\n",
    "    print(\"Norm. Test CM GS:\\n {}\\n\").format(get_cm_gs(cm_tests,True))\n",
    "    print(\"{}\\n\").format(tree.feature_importances_)"
   ]
  },
  {
   "cell_type": "code",
   "execution_count": 13,
   "metadata": {
    "collapsed": true
   },
   "outputs": [],
   "source": [
    "# The classifiers seem to prefer bb_m and jet1_csv as the most important variables"
   ]
  },
  {
   "cell_type": "code",
   "execution_count": 14,
   "metadata": {},
   "outputs": [
    {
     "data": {
      "text/plain": [
       "<function matplotlib.pyplot.show>"
      ]
     },
     "execution_count": 14,
     "metadata": {},
     "output_type": "execute_result"
    },
    {
     "data": {
      "image/png": "[encoded data removed]",
      "text/plain": [
       "<matplotlib.figure.Figure at 0x11ce1bf10>"
      ]
     },
     "metadata": {},
     "output_type": "display_data"
    }
   ],
   "source": [
    "plt.hist(df[df.isgs==0].bb_m, alpha=0.5, label='noGS', log=True, normed=True)\n",
    "plt.hist(df[df.isgs==1].bb_m, alpha=0.5, label='GSb', normed=True)\n",
    "plt.hist(df[df.isgs==2].bb_m, alpha=0.5, label='GSbb', normed=True)\n",
    "plt.legend(loc='upper right')\n",
    "plt.show"
   ]
  },
  {
   "cell_type": "code",
   "execution_count": 19,
   "metadata": {},
   "outputs": [
    {
     "data": {
      "text/plain": [
       "<function matplotlib.pyplot.show>"
      ]
     },
     "execution_count": 19,
     "metadata": {},
     "output_type": "execute_result"
    },
    {
     "data": {
      "image/png": "[encoded data removed]",
      "text/plain": [
       "<matplotlib.figure.Figure at 0x11d4ddb10>"
      ]
     },
     "metadata": {},
     "output_type": "display_data"
    }
   ],
   "source": [
    "plt.hist(df[df.isgs==0].dr_bb, alpha=0.5, label='noGS', log=True, normed=True)\n",
    "plt.hist(df[df.isgs==1].dr_bb, alpha=0.5, label='GSb', normed=True)\n",
    "plt.hist(df[df.isgs==2].dr_bb, alpha=0.5, label='GSbb', normed=True)\n",
    "plt.legend(loc='upper right')\n",
    "plt.show"
   ]
  },
  {
   "cell_type": "code",
   "execution_count": 15,
   "metadata": {},
   "outputs": [
    {
     "data": {
      "text/plain": [
       "<function matplotlib.pyplot.show>"
      ]
     },
     "execution_count": 15,
     "metadata": {},
     "output_type": "execute_result"
    },
    {
     "data": {
      "image/png": "[encoded data removed]",
      "text/plain": [
       "<matplotlib.figure.Figure at 0x11ce27610>"
      ]
     },
     "metadata": {},
     "output_type": "display_data"
    }
   ],
   "source": [
    "plt.hist(df[df.isgs==0].jet1_csv, alpha=0.5, label='noGS', log=True, normed=True)\n",
    "plt.hist(df[df.isgs==1].jet1_csv, alpha=0.5, label='GSb', normed=True)\n",
    "plt.hist(df[df.isgs==2].jet1_csv, alpha=0.5, label='GSbb', normed=True)\n",
    "plt.legend(loc='upper left')\n",
    "plt.show"
   ]
  },
  {
   "cell_type": "code",
   "execution_count": 18,
   "metadata": {},
   "outputs": [
    {
     "data": {
      "text/plain": [
       "<function matplotlib.pyplot.show>"
      ]
     },
     "execution_count": 18,
     "metadata": {},
     "output_type": "execute_result"
    },
    {
     "data": {
      "image/png": "[encoded data removed]",
      "text/plain": [
       "<matplotlib.figure.Figure at 0x120356850>"
      ]
     },
     "metadata": {},
     "output_type": "display_data"
    }
   ],
   "source": [
    "plt.hist(df[df.isgs==0].jet2_csv, alpha=0.5, label='noGS', log=True, normed=True)\n",
    "plt.hist(df[df.isgs==1].jet2_csv, alpha=0.5, label='GSb', normed=True)\n",
    "plt.hist(df[df.isgs==2].jet2_csv, alpha=0.5, label='GSbb', normed=True)\n",
    "plt.legend(loc='upper right')\n",
    "plt.show"
   ]
  },
  {
   "cell_type": "code",
   "execution_count": 16,
   "metadata": {},
   "outputs": [
    {
     "data": {
      "text/plain": [
       "<function matplotlib.pyplot.show>"
      ]
     },
     "execution_count": 16,
     "metadata": {},
     "output_type": "execute_result"
    },
    {
     "data": {
      "image/png": "[encoded data removed]",
      "text/plain": [
       "<matplotlib.figure.Figure at 0x111cb9f90>"
      ]
     },
     "metadata": {},
     "output_type": "display_data"
    }
   ],
   "source": [
    "bins = np.linspace(0,3.2,10)\n",
    "plt.hist(df[df.isgs==2].dr_bb, bins, alpha=0.5, label='GSbb', normed=True)\n",
    "plt.hist(df[df.isgs==1].dr_bb, bins, alpha=0.5, label='GSb', normed=True)\n",
    "plt.hist(df[df.isgs==0].dr_bb, bins, alpha=0.5, label='noGS', normed=True)\n",
    "plt.legend(loc='upper right')\n",
    "plt.show"
   ]
  },
  {
   "cell_type": "code",
   "execution_count": 14,
   "metadata": {},
   "outputs": [
    {
     "data": {
      "image/png": "[encoded data removed]",
      "text/plain": [
       "<matplotlib.figure.Figure at 0x118185850>"
      ]
     },
     "metadata": {},
     "output_type": "display_data"
    }
   ],
   "source": [
    "train_scores = [0.526, 0.543, 0.566, 0.574, 0.577, 0.584, 0.591, 0.600, 0.611, 0.624, 0.641, 0.661, 0.684, 0.709]\n",
    "test_scores = [0.526, 0.542, 0.564, 0.572, 0.571, 0.576, 0.578, 0.577, 0.574, 0.570, 0.565, 0.560, 0.554, 0.547]\n",
    "test_gs_scores = [0.526, 0.560, 0.609, 0.611, 0.610, 0.621, 0.619, 0.622, 0.623, 0.618, 0.614, 0.611, 0.608, 0.604]\n",
    "\n",
    "# Plot train/test scores as a function of depth\n",
    "plt.plot(range(1,15), train_scores, color='darkorange', label = 'Train', lw=2, marker='.', ms=10)\n",
    "plt.plot(range(1,15), test_scores, color='darkgreen', label = 'Test', lw=2, marker='.', ms=10)\n",
    "plt.plot(range(1,15), test_gs_scores, color='purple', label = 'Test GS', lw=2, marker='.', ms=10)\n",
    "plt.plot([1,15],[0.633,0.633], color='grey', lw = 2, linestyle='--', label='Binary benchmark')\n",
    "plt.xlim([1,14])\n",
    "plt.ylim([0.4, 0.7])\n",
    "plt.xlabel('Depth')\n",
    "plt.ylabel('Mean Accuracy')\n",
    "plt.legend(loc='lower left')\n",
    "plt.show()"
   ]
  },
  {
   "cell_type": "code",
   "execution_count": null,
   "metadata": {
    "collapsed": true
   },
   "outputs": [],
   "source": []
  }
 ],
 "metadata": {
  "kernelspec": {
   "display_name": "Python 2",
   "language": "python",
   "name": "python2"
  },
  "language_info": {
   "codemirror_mode": {
    "name": "ipython",
    "version": 2
   },
   "file_extension": ".py",
   "mimetype": "text/x-python",
   "name": "python",
   "nbconvert_exporter": "python",
   "pygments_lexer": "ipython2",
   "version": "2.7.13"
  }
 },
 "nbformat": 4,
 "nbformat_minor": 2
}
